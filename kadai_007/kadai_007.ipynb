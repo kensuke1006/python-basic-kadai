{
  "cells": [
    {
      "cell_type": "markdown",
      "metadata": {
        "id": "HPGhONEmHGzl"
      },
      "source": []
    },
    {
      "cell_type": "markdown",
      "metadata": {
        "id": "kRhF2NLMHGxS"
      },
      "source": []
    },
    {
      "cell_type": "code",
      "execution_count": 1,
      "metadata": {
        "colab": {
          "base_uri": "https://localhost:8080/"
        },
        "id": "vUyZvcDputOo",
        "outputId": "9da5ef48-7646-4357-8773-f19ff1fe39b1"
      },
      "outputs": [
        {
          "name": "stdout",
          "output_type": "stream",
          "text": [
            "水曜日は晴れです\n",
            "{'mon': '晴れ', 'tue': '雨', 'wed': '晴れ', 'thu': '晴れ', 'fri': '曇り', 'sat': '曇りのち雨', 'sun': '雷雨'}\n"
          ]
        }
      ],
      "source": [
        "array = [\"月曜日は晴れです\",\"火曜日は雨です\",\"水曜日は晴れです\",\"木曜日は晴れです\",\"金曜日は曇りです\",\"土曜日は雲のち雨です\",\"日曜日は雷雨です\"]\n",
        "\n",
        "print(array[2])\n",
        "\n",
        "dictionary = {\"mon\": \"晴れ\",\"tue\": \"雨\", \"wed\": \"晴れ\",\"thu\" : \"晴れ\",\"fri\":\"曇り\", \"sat\" :\"曇りのち雨\", \"sun\" :\"雷雨\"}\n",
        "\n",
        "print(dictionary)"
      ]
    }
  ],
  "metadata": {
    "colab": {
      "provenance": []
    },
    "kernelspec": {
      "display_name": "Python 3",
      "name": "python3"
    },
    "language_info": {
      "codemirror_mode": {
        "name": "ipython",
        "version": 3
      },
      "file_extension": ".py",
      "mimetype": "text/x-python",
      "name": "python",
      "nbconvert_exporter": "python",
      "pygments_lexer": "ipython3",
      "version": "3.12.5"
    }
  },
  "nbformat": 4,
  "nbformat_minor": 0
}
