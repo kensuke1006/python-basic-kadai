{
  "cells": [
    {
      "cell_type": "code",
      "execution_count": 2,
      "metadata": {
        "colab": {
          "base_uri": "https://localhost:8080/"
        },
        "id": "RWvTyRS6no1q",
        "outputId": "bfcf0c55-996e-4115-97c5-271952c03080"
      },
      "outputs": [
        {
          "name": "stdout",
          "output_type": "stream",
          "text": [
            "台形の面積は75.0平方センチメートルです。\n"
          ]
        }
      ],
      "source": [
        "a = 10\n",
        "b = 20\n",
        "h = 5\n",
        "\n",
        "total_base = a + b\n",
        "\n",
        "area_temp = total_base *  h\n",
        "\n",
        "area  = area_temp / 2\n",
        "\n",
        "print(f\"台形の面積は{area}平方センチメートルです。\")"
      ]
    }
  ],
  "metadata": {
    "colab": {
      "provenance": []
    },
    "kernelspec": {
      "display_name": "Python 3",
      "name": "python3"
    },
    "language_info": {
      "name": "python"
    }
  },
  "nbformat": 4,
  "nbformat_minor": 0
}
